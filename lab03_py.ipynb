{
  "nbformat": 4,
  "nbformat_minor": 0,
  "metadata": {
    "colab": {
      "name": "lab03.py",
      "provenance": [],
      "collapsed_sections": [],
      "authorship_tag": "ABX9TyOz54ji38cBI2BNaI1cI9lA",
      "include_colab_link": true
    },
    "kernelspec": {
      "name": "python3",
      "display_name": "Python 3"
    }
  },
  "cells": [
    {
      "cell_type": "markdown",
      "metadata": {
        "id": "view-in-github",
        "colab_type": "text"
      },
      "source": [
        "<a href=\"https://colab.research.google.com/github/DDDMIN/TensorFlow/blob/main/lab03_py.ipynb\" target=\"_parent\"><img src=\"https://colab.research.google.com/assets/colab-badge.svg\" alt=\"Open In Colab\"/></a>"
      ]
    },
    {
      "cell_type": "code",
      "metadata": {
        "id": "-L60dOH1NJ6B"
      },
      "source": [
        "import numpy as np\r\n",
        "\r\n",
        "X = np.array([1, 2, 3])\r\n",
        "Y = np.array([1, 2, 3])\r\n",
        "\r\n",
        "def cost_func(W, X, Y):\r\n",
        "  c = 0\r\n",
        "  for i in range(len(X)):\r\n",
        "    c += (W * X[i] - Y[i]) ** 2\r\n",
        "    return c / len(X)\r\n",
        "  \r\n",
        "  for feed_W in np.linspace(-3, 5, num = 15): #(시작, 끝, 열다섯개 구간)\r\n",
        "    curr_cost = cost_func(feed_W, X, Y)\r\n",
        "    print(feed_W, curr_cost)"
      ],
      "execution_count": null,
      "outputs": []
    },
    {
      "cell_type": "code",
      "metadata": {
        "id": "-R4sn5lUNUSi",
        "colab": {
          "base_uri": "https://localhost:8080/"
        },
        "outputId": "ba631d3f-c3de-4fd5-ae40-dddb3247cf23"
      },
      "source": [
        "import tensorflow as tf\r\n",
        "\r\n",
        "X = np.array([1, 2, 3])\r\n",
        "Y = np.array([1, 2, 3])\r\n",
        "\r\n",
        "def cost_func(W, X, Y):\r\n",
        "  hypothesis = X * Y\r\n",
        "  return tf.reduce_mean(tf.square(hypothesis - Y))\r\n",
        "\r\n",
        "W_values = np.linspace(-3, 5, num = 15)\r\n",
        "cost_values = []\r\n",
        "\r\n",
        "for feed_W in W_values:\r\n",
        "  curr_cost = cost_func(feed_W, X, Y)\r\n",
        "  cost_values.append(curr_cost)\r\n",
        "  print(\"{:6.3f} | {:10.5f}\".format(feed_W, curr_cost))\r\n",
        "  "
      ],
      "execution_count": 14,
      "outputs": [
        {
          "output_type": "stream",
          "text": [
            "-3.000 |   13.00000\n",
            "-2.429 |   13.00000\n",
            "-1.857 |   13.00000\n",
            "-1.286 |   13.00000\n",
            "-0.714 |   13.00000\n",
            "-0.143 |   13.00000\n",
            " 0.429 |   13.00000\n",
            " 1.000 |   13.00000\n",
            " 1.571 |   13.00000\n",
            " 2.143 |   13.00000\n",
            " 2.714 |   13.00000\n",
            " 3.286 |   13.00000\n",
            " 3.857 |   13.00000\n",
            " 4.429 |   13.00000\n",
            " 5.000 |   13.00000\n"
          ],
          "name": "stdout"
        }
      ]
    },
    {
      "cell_type": "code",
      "metadata": {
        "colab": {
          "base_uri": "https://localhost:8080/"
        },
        "id": "XuCHan13PC8E",
        "outputId": "1f8a3723-ce85-4e69-b2a8-6119398876ca"
      },
      "source": [
        "tf.random.set_seed(0) #텐서플로우 v2에서는 이거 써야함\r\n",
        "\r\n",
        "x_data = [1., 2., 3., 4.]\r\n",
        "y_data = [1., 3., 5., 7.]\r\n",
        "\r\n",
        "W = tf.Variable(tf.random.normal([1], -100., 100.)) #정규분포를 따르는 랜덤넘버 한개를 할당 범위는 플마백 #텐서플로우 v2에서는 이거 써야함\r\n",
        "\r\n",
        "#gradient descent 진행\r\n",
        "for step in range(300):\r\n",
        "  hypothesis = W * X\r\n",
        "  cost = tf.reduce_mean(tf.square(hypothesis - Y))\r\n",
        "\r\n",
        "  alpha = 0.01\r\n",
        "  gradient = tf.reduce_mean(tf.multiply(tf.multiply(W, X) - Y, X)) #미분한 값\r\n",
        "  descent = W - tf.multiply(alpha, gradient) #미분한 값*러닝레이트를 빼면 새로운 W나옴\r\n",
        "  W.assign(descent) #새로운 W를 할당\r\n",
        "\r\n",
        "  if step % 10 == 0:\r\n",
        "    print('{:5} | {:10.4f} | {:10.6f}'.format(step, cost.numpy(), W.numpy()[0]))"
      ],
      "execution_count": 23,
      "outputs": [
        {
          "output_type": "stream",
          "text": [
            "    0 | 11716.3086 |  48.767971\n",
            "   10 |  4504.9126 |  30.619968\n",
            "   20 |  1732.1364 |  19.366755\n",
            "   30 |   666.0052 |  12.388859\n",
            "   40 |   256.0785 |   8.062004\n",
            "   50 |    98.4620 |   5.379007\n",
            "   60 |    37.8586 |   3.715335\n",
            "   70 |    14.5566 |   2.683725\n",
            "   80 |     5.5970 |   2.044044\n",
            "   90 |     2.1520 |   1.647391\n",
            "  100 |     0.8275 |   1.401434\n",
            "  110 |     0.3182 |   1.248922\n",
            "  120 |     0.1223 |   1.154351\n",
            "  130 |     0.0470 |   1.095710\n",
            "  140 |     0.0181 |   1.059348\n",
            "  150 |     0.0070 |   1.036801\n",
            "  160 |     0.0027 |   1.022819\n",
            "  170 |     0.0010 |   1.014150\n",
            "  180 |     0.0004 |   1.008774\n",
            "  190 |     0.0002 |   1.005441\n",
            "  200 |     0.0001 |   1.003374\n",
            "  210 |     0.0000 |   1.002092\n",
            "  220 |     0.0000 |   1.001297\n",
            "  230 |     0.0000 |   1.000804\n",
            "  240 |     0.0000 |   1.000499\n",
            "  250 |     0.0000 |   1.000309\n",
            "  260 |     0.0000 |   1.000192\n",
            "  270 |     0.0000 |   1.000119\n",
            "  280 |     0.0000 |   1.000074\n",
            "  290 |     0.0000 |   1.000046\n"
          ],
          "name": "stdout"
        }
      ]
    }
  ]
}